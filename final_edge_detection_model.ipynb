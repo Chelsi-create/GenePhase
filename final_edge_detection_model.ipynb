{
  "nbformat": 4,
  "nbformat_minor": 0,
  "metadata": {
    "colab": {
      "name": "final edge detection model.ipynb",
      "provenance": []
    },
    "kernelspec": {
      "name": "python3",
      "display_name": "Python 3"
    }
  },
  "cells": [
    {
      "cell_type": "code",
      "metadata": {
        "id": "kr74K_SGGAhG"
      },
      "source": [
        "import numpy as np\r\n",
        "import cv2 as cv\r\n",
        "import pandas as pd\r\n",
        "from matplotlib.pyplot import figure\r\n",
        "from matplotlib import pyplot as plt"
      ],
      "execution_count": null,
      "outputs": []
    },
    {
      "cell_type": "code",
      "metadata": {
        "id": "0otIuQzaH1EF"
      },
      "source": [
        "from google.colab import files\r\n",
        "\r\n",
        "uploaded = files.upload()\r\n",
        "\r\n",
        "for fn in uploaded.keys():\r\n",
        "  print('User uploaded file \"{name}\" with length {length} bytes'.format(\r\n",
        "      name=fn, length=len(uploaded[fn])))"
      ],
      "execution_count": null,
      "outputs": []
    },
    {
      "cell_type": "code",
      "metadata": {
        "colab": {
          "base_uri": "https://localhost:8080/",
          "height": 234
        },
        "id": "hQu0Loz2GRs1",
        "outputId": "3520c974-48d6-4490-e868-8a969f3c1799"
      },
      "source": [
        "input_img = 'Ag-Bi.PNG'\r\n",
        "\r\n",
        "img2 = cv.imread(input_img,0)\r\n",
        "img2 = cv.medianBlur(img2,3)\r\n",
        "ret,th1 = cv.threshold(img2,250,265,cv.THRESH_BINARY)\r\n",
        "th1 = cv.medianBlur(th1,3)\r\n",
        "\r\n",
        "th2 = cv.adaptiveThreshold(img2,255,cv.ADAPTIVE_THRESH_MEAN_C,\\\r\n",
        "            cv.THRESH_BINARY,11,2)\r\n",
        "th3 = cv.adaptiveThreshold(img2,255,cv.ADAPTIVE_THRESH_GAUSSIAN_C,\\\r\n",
        "            cv.THRESH_BINARY,11,2)\r\n",
        "titles = ['Original Image', 'Global Thresholding (v = 127)',\r\n",
        "            'Adaptive Mean Thresholding', 'Adaptive Gaussian Thresholding']\r\n",
        "images = [img2, th1, th2, th3]\r\n",
        "\r\n",
        "figure (figsize=(20,20))\r\n",
        "for i in range(4):\r\n",
        "    plt.subplot(2,2,i+1),plt.imshow(images[i],'gray')\r\n",
        "    plt.title(titles[i])\r\n",
        "    plt.xticks([]),plt.yticks([])\r\n",
        "plt.show()"
      ],
      "execution_count": null,
      "outputs": [
        {
          "output_type": "error",
          "ename": "error",
          "evalue": "ignored",
          "traceback": [
            "\u001b[0;31m---------------------------------------------------------------------------\u001b[0m",
            "\u001b[0;31merror\u001b[0m                                     Traceback (most recent call last)",
            "\u001b[0;32m<ipython-input-5-a1bd442c4825>\u001b[0m in \u001b[0;36m<module>\u001b[0;34m()\u001b[0m\n\u001b[1;32m      6\u001b[0m \u001b[0mth1\u001b[0m \u001b[0;34m=\u001b[0m \u001b[0mcv\u001b[0m\u001b[0;34m.\u001b[0m\u001b[0mmedianBlur\u001b[0m\u001b[0;34m(\u001b[0m\u001b[0mth1\u001b[0m\u001b[0;34m,\u001b[0m\u001b[0;36m3\u001b[0m\u001b[0;34m)\u001b[0m\u001b[0;34m\u001b[0m\u001b[0;34m\u001b[0m\u001b[0m\n\u001b[1;32m      7\u001b[0m \u001b[0;34m\u001b[0m\u001b[0m\n\u001b[0;32m----> 8\u001b[0;31m \u001b[0mth2\u001b[0m \u001b[0;34m=\u001b[0m \u001b[0mcv\u001b[0m\u001b[0;34m.\u001b[0m\u001b[0madaptiveThreshold\u001b[0m\u001b[0;34m(\u001b[0m\u001b[0mimg2\u001b[0m\u001b[0;34m,\u001b[0m\u001b[0;36m255\u001b[0m\u001b[0;34m,\u001b[0m\u001b[0mcv\u001b[0m\u001b[0;34m.\u001b[0m\u001b[0mADAPTIVE_THRESH_MEAN_C\u001b[0m\u001b[0;34m,\u001b[0m            \u001b[0mcv\u001b[0m\u001b[0;34m.\u001b[0m\u001b[0mTHRESH_BINARY\u001b[0m\u001b[0;34m,\u001b[0m\u001b[0;36m11\u001b[0m\u001b[0;34m,\u001b[0m\u001b[0;36m2\u001b[0m\u001b[0;34m)\u001b[0m\u001b[0;34m\u001b[0m\u001b[0;34m\u001b[0m\u001b[0m\n\u001b[0m\u001b[1;32m      9\u001b[0m \u001b[0mth3\u001b[0m \u001b[0;34m=\u001b[0m \u001b[0mcv\u001b[0m\u001b[0;34m.\u001b[0m\u001b[0madaptiveThreshold\u001b[0m\u001b[0;34m(\u001b[0m\u001b[0mimg2\u001b[0m\u001b[0;34m,\u001b[0m\u001b[0;36m255\u001b[0m\u001b[0;34m,\u001b[0m\u001b[0mcv\u001b[0m\u001b[0;34m.\u001b[0m\u001b[0mADAPTIVE_THRESH_GAUSSIAN_C\u001b[0m\u001b[0;34m,\u001b[0m            \u001b[0mcv\u001b[0m\u001b[0;34m.\u001b[0m\u001b[0mTHRESH_BINARY\u001b[0m\u001b[0;34m,\u001b[0m\u001b[0;36m11\u001b[0m\u001b[0;34m,\u001b[0m\u001b[0;36m2\u001b[0m\u001b[0;34m)\u001b[0m\u001b[0;34m\u001b[0m\u001b[0;34m\u001b[0m\u001b[0m\n\u001b[1;32m     10\u001b[0m titles = ['Original Image', 'Global Thresholding (v = 127)',\n",
            "\u001b[0;31merror\u001b[0m: OpenCV(4.1.2) /io/opencv/modules/imgproc/src/filter.simd.hpp:221: error: (-215:Assertion failed) src && dst && count > 0 in function 'FilterEngine__proceed'\n"
          ]
        }
      ]
    },
    {
      "cell_type": "code",
      "metadata": {
        "id": "AHXq7mR1Glkv"
      },
      "source": [
        "img3 = cv.imread(input_img,0)\r\n",
        "img3 = cv.medianBlur(img2,3)\r\n",
        "ret,th1 = cv.threshold(img2,245,255,cv.THRESH_BINARY)\r\n",
        "\r\n",
        "\r\n",
        "num_labels, labels_im, stats_im, centroid_im  = cv.connectedComponentsWithStats(th1)\r\n",
        "\r\n",
        "def imshow_components(labels):\r\n",
        "    # Map component labels to hue val\r\n",
        "    label_hue = np.uint8(179*labels/np.max(labels))\r\n",
        "    blank_ch = 255*np.ones_like(label_hue)\r\n",
        "    labeled_img = cv.merge([label_hue, blank_ch, blank_ch])\r\n",
        "\r\n",
        "    # cvt to BGR for display\r\n",
        "    labeled_img = cv.cvtColor(labeled_img, cv.COLOR_HSV2BGR)\r\n",
        "\r\n",
        "    # set bg label to black\r\n",
        "    labeled_img[label_hue==0] = 0\r\n",
        "\r\n",
        "    #cv.imshow('labeled.png', labeled_img)\r\n",
        "    figure (figsize=(15,15))\r\n",
        "    plt.subplot(121)\r\n",
        "    plt.imshow(img2,cmap = 'gray')\r\n",
        "    plt.title('th1 blurred threshold'), plt.xticks([]), plt.yticks([])\r\n",
        "\r\n",
        "    figure (figsize=(15,15))\r\n",
        "    plt.subplot(121)\r\n",
        "    plt.imshow(th1,cmap = 'gray')\r\n",
        "    plt.title('th1 blurred threshold'), plt.xticks([]), plt.yticks([])\r\n",
        "\r\n",
        "    figure (figsize=(15,15))\r\n",
        "    plt.subplot(122)\r\n",
        "    plt.imshow(labeled_img,cmap = 'gray')\r\n",
        "    plt.title('contours'), plt.xticks([]), plt.yticks([])\r\n",
        "\r\n",
        "    cv.waitKey()\r\n",
        "\r\n",
        "\r\n",
        "imshow_components(labels_im)"
      ],
      "execution_count": null,
      "outputs": []
    },
    {
      "cell_type": "code",
      "metadata": {
        "id": "VSkzzQchGlno"
      },
      "source": [
        "#find out what region of the graph the input is in\r\n",
        "def phase_finder(y,x):\r\n",
        "  iter = 0\r\n",
        "  phase = labels_im[y,x]\r\n",
        "  #if there are less than 50 pixels for an area it is excluded and the input is moved to a nearby value, it no nearby value works an error message is spit out\r\n",
        "  while stats_im[phase,4] < 50:\r\n",
        "    x = x+1\r\n",
        "    y = y+1\r\n",
        "    iter = iter+1\r\n",
        "    if iter > 10:\r\n",
        "      print('there was an error with the location selected please try again')\r\n",
        "      return()\r\n",
        "  return(phase)"
      ],
      "execution_count": null,
      "outputs": []
    },
    {
      "cell_type": "code",
      "metadata": {
        "id": "2IfuYcpdGlqw"
      },
      "source": [
        "#placeholder until the program is linked to the input\r\n",
        "input_x = 49\r\n",
        "input_y = 472\r\n",
        "input = [input_y,input_x]\r\n",
        "\r\n",
        "phase = phase_finder(input_y, input_x)"
      ],
      "execution_count": null,
      "outputs": []
    },
    {
      "cell_type": "code",
      "metadata": {
        "id": "RNjIUvqsGluA"
      },
      "source": [
        "#finds the min and max values for the x and y of the area\r\n",
        "\r\n",
        "#finding max and min values for y\r\n",
        "y_distribution = (np.count_nonzero(labels_im == phase, axis=1))\r\n",
        "\r\n",
        "#finding max and min values for x\r\n",
        "x_distribution = (np.count_nonzero(labels_im == phase, axis=0))\r\n",
        "\r\n",
        "#finds the min and max values in the x and y direction for the specific phase\r\n",
        "ls_x = [i for i, e in enumerate(x_distribution) if e !=0]\r\n",
        "x_min = ls_x[0]\r\n",
        "x_max = ls_x[len(ls)-1]\r\n",
        "\r\n",
        "ls_y = [i for i, e in enumerate(y_distribution) if e !=0]\r\n",
        "y_min = ls_y[0]\r\n",
        "y_max = ls_y[len(ls_y)-1]\r\n"
      ],
      "execution_count": null,
      "outputs": []
    },
    {
      "cell_type": "code",
      "metadata": {
        "id": "8FE8ZIsrG1YO"
      },
      "source": [
        ""
      ],
      "execution_count": null,
      "outputs": []
    },
    {
      "cell_type": "code",
      "metadata": {
        "id": "VCtdYj7cG1a1"
      },
      "source": [
        ""
      ],
      "execution_count": null,
      "outputs": []
    },
    {
      "cell_type": "code",
      "metadata": {
        "id": "N7HJo_QNG1dq"
      },
      "source": [
        ""
      ],
      "execution_count": null,
      "outputs": []
    }
  ]
}