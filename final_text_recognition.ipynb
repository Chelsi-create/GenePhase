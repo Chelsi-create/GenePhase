{
  "nbformat": 4,
  "nbformat_minor": 0,
  "metadata": {
    "colab": {
      "name": "final text recognition.ipynb",
      "provenance": []
    },
    "kernelspec": {
      "name": "python3",
      "display_name": "Python 3"
    }
  },
  "cells": [
    {
      "cell_type": "code",
      "metadata": {
        "id": "sMJwAqvhQJx9"
      },
      "source": [
        "!sudo apt install tesseract-ocr\r\n",
        "!pip install pytesseract"
      ],
      "execution_count": null,
      "outputs": []
    },
    {
      "cell_type": "code",
      "metadata": {
        "id": "f2f_fWJ8QPXX"
      },
      "source": [
        "from PIL import Image\r\n",
        "import cv2\r\n",
        "import pytesseract\r\n",
        "from matplotlib import pyplot as plt"
      ],
      "execution_count": null,
      "outputs": []
    },
    {
      "cell_type": "code",
      "metadata": {
        "id": "rUVGWRnWSLzA"
      },
      "source": [
        "#!which tesseract"
      ],
      "execution_count": null,
      "outputs": []
    },
    {
      "cell_type": "code",
      "metadata": {
        "id": "7GF2mCKMQPaI"
      },
      "source": [
        "pytesseract.pytesseract.tesseract_cmd = (\r\n",
        "    r'/usr/bin/tesseract'\r\n",
        ")"
      ],
      "execution_count": null,
      "outputs": []
    },
    {
      "cell_type": "code",
      "metadata": {
        "id": "qtlSXudvSK6x"
      },
      "source": [
        "from google.colab import files\r\n",
        "\r\n",
        "uploaded = files.upload()\r\n",
        "\r\n",
        "for fn in uploaded.keys():\r\n",
        "  print('User uploaded file \"{name}\" with length {length} bytes'.format(\r\n",
        "      name=fn, length=len(uploaded[fn])))"
      ],
      "execution_count": null,
      "outputs": []
    },
    {
      "cell_type": "code",
      "metadata": {
        "id": "Nb8cGo2pQPdu"
      },
      "source": [
        ""
      ],
      "execution_count": null,
      "outputs": []
    },
    {
      "cell_type": "code",
      "metadata": {
        "id": "WhX7Bj59QPf2"
      },
      "source": [
        "def img_to_text(img):\r\n",
        "  #img = cv2.imread(\"Ag-Bi-Table.PNG\")\r\n",
        "\r\n",
        "  # Convert the image to gray scale \r\n",
        "  gray = cv2.cvtColor(img, cv2.COLOR_BGR2GRAY)\r\n",
        "\r\n",
        "  # Performing OTSU threshold \r\n",
        "  ret, thresh1 = cv2.threshold(gray, 0, 255, cv2.THRESH_OTSU | cv2.THRESH_BINARY_INV) \r\n",
        "\r\n",
        "  # Specify structure shape and kernel size. Kernel size increases or decreases the area of the rectangle to be detected. A smaller value like (10, 10) will detect each word instead of a sentence. \r\n",
        "  rect_kernel = cv2.getStructuringElement(cv2.MORPH_RECT, (18, 18))\r\n",
        "\r\n",
        "  # Applying dilation on the threshold image\r\n",
        "  dilation = cv2.dilate(thresh1, rect_kernel, iterations = 1)\r\n",
        "\r\n",
        "  # Finding contours \r\n",
        "  contours, hierarchy = cv2.findContours(dilation, cv2.RETR_EXTERNAL,cv2.CHAIN_APPROX_NONE)\r\n",
        "\r\n",
        "  # Creating a copy of image \r\n",
        "  im2 = img.copy()\r\n",
        "\r\n",
        "  # A text file is created and flushed \r\n",
        "  file = open(\"Extracted.txt\", \"w+\") \r\n",
        "  file.write(\"\") \r\n",
        "  file.close()\r\n",
        "\r\n",
        "  # Looping through the identified contours. Then rectangular part is cropped and passed on to pytesseract for extracting text from it. Extracted text is then written into the text file\r\n",
        "  for cnt in contours:\r\n",
        "      x, y, w, h = cv2.boundingRect(cnt)\r\n",
        "\r\n",
        "      # draw a rectangle on copied image\r\n",
        "      rect = cv2.rectangle(im2, (x, y), (x+w, y+h), (0, 255, 0), 2)\r\n",
        "\r\n",
        "      # cropping the text block for giving input to OCR\r\n",
        "      cropped = im2[y:y+h, x:x+w]\r\n",
        "\r\n",
        "      # Open the file in append mode\r\n",
        "      file = open(\"Extracted.txt\", \"a\")\r\n",
        "\r\n",
        "      # Apply OCR on the cropped image \r\n",
        "      text = pytesseract.image_to_string(cropped)\r\n",
        "\r\n",
        "      # Appending the text into file \r\n",
        "      file.write(text) \r\n",
        "      file.write(\"\\n\") \r\n",
        "      \r\n",
        "      # Close the file \r\n",
        "      file.close\r\n",
        "  return(text)"
      ],
      "execution_count": null,
      "outputs": []
    },
    {
      "cell_type": "code",
      "metadata": {
        "id": "7yuv5rDgQPir"
      },
      "source": [
        "img = cv2.imread('Ag-Bi-Table.PNG')\r\n",
        "\r\n",
        "a = img_to_text(img)\r\n",
        "print (a)"
      ],
      "execution_count": null,
      "outputs": []
    },
    {
      "cell_type": "code",
      "metadata": {
        "id": "OIfuwPUmQPlu"
      },
      "source": [
        ""
      ],
      "execution_count": null,
      "outputs": []
    },
    {
      "cell_type": "code",
      "metadata": {
        "id": "7ALLJ0NJQPoR"
      },
      "source": [
        ""
      ],
      "execution_count": null,
      "outputs": []
    },
    {
      "cell_type": "code",
      "metadata": {
        "id": "lSYwVaNSQPq7"
      },
      "source": [
        ""
      ],
      "execution_count": null,
      "outputs": []
    },
    {
      "cell_type": "code",
      "metadata": {
        "id": "aIq8dHqoQPtR"
      },
      "source": [
        ""
      ],
      "execution_count": null,
      "outputs": []
    }
  ]
}